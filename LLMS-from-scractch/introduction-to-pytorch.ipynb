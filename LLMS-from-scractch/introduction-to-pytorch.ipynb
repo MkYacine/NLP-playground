{
 "cells": [
  {
   "cell_type": "code",
   "execution_count": 1,
   "id": "c8570123-aa9a-4220-b110-6c5090d1279d",
   "metadata": {},
   "outputs": [
    {
     "data": {
      "text/plain": [
       "'2.4.1+cpu'"
      ]
     },
     "execution_count": 1,
     "metadata": {},
     "output_type": "execute_result"
    }
   ],
   "source": [
    "import torch\n",
    "torch.__version__"
   ]
  },
  {
   "cell_type": "markdown",
   "id": "93391d92-12a9-4dfc-8e0e-e1a1aaff74a8",
   "metadata": {},
   "source": [
    "## Simple NN Example"
   ]
  },
  {
   "cell_type": "code",
   "execution_count": 3,
   "id": "28e29412-c331-4a5b-b0d4-a806afcb8ebd",
   "metadata": {},
   "outputs": [],
   "source": [
    "class NeuralNetwork(torch.nn.Module):\n",
    "    def __init__(self, num_inputs, num_outputs): \n",
    "        super().__init__()\n",
    "        self.layers = torch.nn.Sequential(\n",
    "        \n",
    "        # 1st hidden layer\n",
    "        torch.nn.Linear(num_inputs, 30), \n",
    "        torch.nn.ReLU(), \n",
    "        # 2nd hidden layer\n",
    "        torch.nn.Linear(30, 20), \n",
    "        torch.nn.ReLU(),\n",
    "        # output layer\n",
    "        torch.nn.Linear(20, num_outputs),\n",
    "        )\n",
    "    def forward(self, x):\n",
    "        logits = self.layers(x)\n",
    "        return logits"
   ]
  },
  {
   "cell_type": "code",
   "execution_count": 4,
   "id": "8731b6c9-4125-4701-b633-78acdd8dbc45",
   "metadata": {},
   "outputs": [
    {
     "name": "stdout",
     "output_type": "stream",
     "text": [
      "NeuralNetwork(\n",
      "  (layers): Sequential(\n",
      "    (0): Linear(in_features=50, out_features=30, bias=True)\n",
      "    (1): ReLU()\n",
      "    (2): Linear(in_features=30, out_features=20, bias=True)\n",
      "    (3): ReLU()\n",
      "    (4): Linear(in_features=20, out_features=3, bias=True)\n",
      "  )\n",
      ")\n"
     ]
    }
   ],
   "source": [
    "model = NeuralNetwork(50, 3)\n",
    "print(model)"
   ]
  },
  {
   "cell_type": "code",
   "execution_count": 5,
   "id": "32a29c69-ef83-4840-9c7d-197394ab58c3",
   "metadata": {},
   "outputs": [
    {
     "name": "stdout",
     "output_type": "stream",
     "text": [
      "Total number of trainable model parameters: 2213\n"
     ]
    }
   ],
   "source": [
    "num_params = sum(p.numel() for p in model.parameters() if p.requires_grad)\n",
    "print(\"Total number of trainable model parameters:\", num_params)"
   ]
  },
  {
   "cell_type": "code",
   "execution_count": 8,
   "id": "c58e8c69-9bac-4b9a-b443-8dfd63ee212c",
   "metadata": {},
   "outputs": [
    {
     "name": "stdout",
     "output_type": "stream",
     "text": [
      "torch.Size([30, 50])\n"
     ]
    }
   ],
   "source": [
    "print(model.layers[0].weight.shape)"
   ]
  },
  {
   "cell_type": "code",
   "execution_count": 12,
   "id": "ace44b45-a830-4276-b905-93472cb85c3a",
   "metadata": {},
   "outputs": [
    {
     "name": "stdout",
     "output_type": "stream",
     "text": [
      "torch.Size([3])\n"
     ]
    }
   ],
   "source": [
    "print(model.layers[4].bias.shape)"
   ]
  },
  {
   "cell_type": "code",
   "execution_count": 13,
   "id": "3bf47544-6625-4ee2-b901-863a07bb63ee",
   "metadata": {},
   "outputs": [
    {
     "name": "stdout",
     "output_type": "stream",
     "text": [
      "tensor([[-0.0552,  0.3030,  0.0186]], grad_fn=<AddmmBackward0>)\n"
     ]
    }
   ],
   "source": [
    "X = torch.rand((1, 50))\n",
    "out = model(X)\n",
    "print(out)"
   ]
  },
  {
   "cell_type": "code",
   "execution_count": 14,
   "id": "55467b63-7f2d-4aea-9a82-c42905bbce98",
   "metadata": {},
   "outputs": [
    {
     "name": "stdout",
     "output_type": "stream",
     "text": [
      "tensor([[0.2868, 0.4024, 0.3108]])\n"
     ]
    }
   ],
   "source": [
    "Xt = torch.rand((1, 50))\n",
    "with torch.no_grad():\n",
    "    pred = torch.softmax(model(Xt), dim=1)\n",
    "print(pred)"
   ]
  },
  {
   "cell_type": "markdown",
   "id": "27f6443c-8370-4022-93a9-588cd68b1484",
   "metadata": {},
   "source": [
    "## Dataset Prep Example"
   ]
  },
  {
   "cell_type": "code",
   "execution_count": 15,
   "id": "5542bf27-1c30-4839-9b15-a6b73c6ae489",
   "metadata": {},
   "outputs": [],
   "source": [
    "X_train = torch.tensor([\n",
    " [-1.2, 3.1],\n",
    " [-0.9, 2.9],\n",
    " [-0.5, 2.6],\n",
    " [2.3, -1.1],\n",
    " [2.7, -1.5]\n",
    "])\n",
    "y_train = torch.tensor([0, 0, 0, 1, 1])\n",
    "X_test = torch.tensor([\n",
    " [-0.8, 2.8],\n",
    " [2.6, -1.6],\n",
    "])\n",
    "y_test = torch.tensor([0, 1])"
   ]
  },
  {
   "cell_type": "code",
   "execution_count": 16,
   "id": "81a2e1d5-3232-4524-84d3-7325874eb2b7",
   "metadata": {},
   "outputs": [],
   "source": [
    "from torch.utils.data import Dataset\n",
    "class ToyDataset(Dataset):\n",
    "    def __init__(self, X, y):\n",
    "        self.features = X\n",
    "        self.labels = y\n",
    "    def __getitem__(self, index): \n",
    "        one_x = self.features[index] \n",
    "        one_y = self.labels[index] \n",
    "        return one_x, one_y \n",
    "    def __len__(self):\n",
    "        return self.labels.shape[0] \n",
    "train_ds = ToyDataset(X_train, y_train)\n",
    "test_ds = ToyDataset(X_test, y_test)"
   ]
  },
  {
   "cell_type": "code",
   "execution_count": 17,
   "id": "09bed1f1-85af-4eee-80f2-01893085ce6d",
   "metadata": {},
   "outputs": [],
   "source": [
    "from torch.utils.data import DataLoader\n",
    "torch.manual_seed(123)\n",
    "train_loader = DataLoader(\n",
    "    dataset=train_ds, \n",
    "    batch_size=2,\n",
    "    shuffle=True, \n",
    "    num_workers=0\n",
    "    #drop_last = True\n",
    ")\n",
    "test_loader = DataLoader(\n",
    "    dataset=test_ds,\n",
    "    batch_size=2,\n",
    "    shuffle=False, \n",
    "    num_workers=0\n",
    ")"
   ]
  },
  {
   "cell_type": "markdown",
   "id": "befc6d79-fb90-4835-a090-9885473cd92b",
   "metadata": {},
   "source": [
    "## Training Loop"
   ]
  },
  {
   "cell_type": "code",
   "execution_count": 18,
   "id": "eb3137b4-deb0-44d6-b8ea-230246f648cf",
   "metadata": {},
   "outputs": [
    {
     "name": "stdout",
     "output_type": "stream",
     "text": [
      "Epoch: 001/003 | Batch 000/003 | Train/Val Loss: 0.75\n",
      "Epoch: 001/003 | Batch 001/003 | Train/Val Loss: 0.65\n",
      "Epoch: 001/003 | Batch 002/003 | Train/Val Loss: 0.42\n",
      "Epoch: 002/003 | Batch 000/003 | Train/Val Loss: 0.05\n",
      "Epoch: 002/003 | Batch 001/003 | Train/Val Loss: 0.13\n",
      "Epoch: 002/003 | Batch 002/003 | Train/Val Loss: 0.00\n",
      "Epoch: 003/003 | Batch 000/003 | Train/Val Loss: 0.01\n",
      "Epoch: 003/003 | Batch 001/003 | Train/Val Loss: 0.00\n",
      "Epoch: 003/003 | Batch 002/003 | Train/Val Loss: 0.02\n"
     ]
    }
   ],
   "source": [
    "import torch.nn.functional as F\n",
    "\n",
    "model = NeuralNetwork(num_inputs=2, num_outputs=2)\n",
    "optimizer = torch.optim.SGD(model.parameters(), lr=0.5)\n",
    "\n",
    "num_epochs = 3\n",
    "\n",
    "for epoch in range(num_epochs):\n",
    "    \n",
    "    model.train()\n",
    "    for batch_idx, (features, labels) in enumerate(train_loader):\n",
    "\n",
    "        logits = model(features)\n",
    "        \n",
    "        loss = F.cross_entropy(logits, labels) # Loss function\n",
    "        \n",
    "        optimizer.zero_grad() # Manually reset gradient to avoid accumulation\n",
    "        loss.backward() # Calculate gradient with back prop\n",
    "        optimizer.step() # Step in the gradient's direction\n",
    "    \n",
    "        ### LOGGING\n",
    "        print(f\"Epoch: {epoch+1:03d}/{num_epochs:03d}\"\n",
    "              f\" | Batch {batch_idx:03d}/{len(train_loader):03d}\"\n",
    "              f\" | Train/Val Loss: {loss:.2f}\")\n",
    "\n",
    "    model.eval()\n",
    "    # Optional model evaluation"
   ]
  },
  {
   "cell_type": "code",
   "execution_count": null,
   "id": "af569391-0df3-41d3-af56-b26087964dd5",
   "metadata": {},
   "outputs": [],
   "source": []
  }
 ],
 "metadata": {
  "kernelspec": {
   "display_name": "Python (nlp-env)",
   "language": "python",
   "name": "nlp-env"
  },
  "language_info": {
   "codemirror_mode": {
    "name": "ipython",
    "version": 3
   },
   "file_extension": ".py",
   "mimetype": "text/x-python",
   "name": "python",
   "nbconvert_exporter": "python",
   "pygments_lexer": "ipython3",
   "version": "3.12.3"
  }
 },
 "nbformat": 4,
 "nbformat_minor": 5
}
