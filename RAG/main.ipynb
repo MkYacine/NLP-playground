{
 "cells": [
  {
   "cell_type": "markdown",
   "id": "dce3a4bd-c7ab-4f83-90fe-1b8928ef917f",
   "metadata": {},
   "source": [
    "# Data prep"
   ]
  },
  {
   "cell_type": "code",
   "execution_count": 1,
   "id": "f62630a0-6d02-4e7b-9120-6d395a4d5476",
   "metadata": {},
   "outputs": [
    {
     "data": {
      "application/vnd.jupyter.widget-view+json": {
       "model_id": "fd4d207a77704a7f88619bde8b4fe7cc",
       "version_major": 2,
       "version_minor": 0
      },
      "text/plain": [
       "README.md:   0%|          | 0.00/21.0 [00:00<?, ?B/s]"
      ]
     },
     "metadata": {},
     "output_type": "display_data"
    },
    {
     "name": "stderr",
     "output_type": "stream",
     "text": [
      "C:\\Users\\mk_ya\\Desktop\\NLP-playground\\nlp-env\\Lib\\site-packages\\huggingface_hub\\file_download.py:147: UserWarning: `huggingface_hub` cache-system uses symlinks by default to efficiently store duplicated files but your machine does not support them in C:\\Users\\mk_ya\\.cache\\huggingface\\hub\\datasets--m-ric--huggingface_doc. Caching files will still work but in a degraded version that might require more space on your disk. This warning can be disabled by setting the `HF_HUB_DISABLE_SYMLINKS_WARNING` environment variable. For more details, see https://huggingface.co/docs/huggingface_hub/how-to-cache#limitations.\n",
      "To support symlinks on Windows, you either need to activate Developer Mode or to run Python as an administrator. In order to activate developer mode, see this article: https://docs.microsoft.com/en-us/windows/apps/get-started/enable-your-device-for-development\n",
      "  warnings.warn(message)\n"
     ]
    },
    {
     "data": {
      "application/vnd.jupyter.widget-view+json": {
       "model_id": "9c518b2376654c67958bec741e62ef18",
       "version_major": 2,
       "version_minor": 0
      },
      "text/plain": [
       "huggingface_doc.csv:   0%|          | 0.00/22.0M [00:00<?, ?B/s]"
      ]
     },
     "metadata": {},
     "output_type": "display_data"
    },
    {
     "data": {
      "application/vnd.jupyter.widget-view+json": {
       "model_id": "61242bf6a2144adb86b5e227782a4ced",
       "version_major": 2,
       "version_minor": 0
      },
      "text/plain": [
       "Generating train split:   0%|          | 0/2647 [00:00<?, ? examples/s]"
      ]
     },
     "metadata": {},
     "output_type": "display_data"
    },
    {
     "data": {
      "application/vnd.jupyter.widget-view+json": {
       "model_id": "613fcb4818234723a0254ff9837deab0",
       "version_major": 2,
       "version_minor": 0
      },
      "text/plain": [
       "README.md:   0%|          | 0.00/893 [00:00<?, ?B/s]"
      ]
     },
     "metadata": {},
     "output_type": "display_data"
    },
    {
     "name": "stderr",
     "output_type": "stream",
     "text": [
      "C:\\Users\\mk_ya\\Desktop\\NLP-playground\\nlp-env\\Lib\\site-packages\\huggingface_hub\\file_download.py:147: UserWarning: `huggingface_hub` cache-system uses symlinks by default to efficiently store duplicated files but your machine does not support them in C:\\Users\\mk_ya\\.cache\\huggingface\\hub\\datasets--m-ric--huggingface_doc_qa_eval. Caching files will still work but in a degraded version that might require more space on your disk. This warning can be disabled by setting the `HF_HUB_DISABLE_SYMLINKS_WARNING` environment variable. For more details, see https://huggingface.co/docs/huggingface_hub/how-to-cache#limitations.\n",
      "To support symlinks on Windows, you either need to activate Developer Mode or to run Python as an administrator. In order to activate developer mode, see this article: https://docs.microsoft.com/en-us/windows/apps/get-started/enable-your-device-for-development\n",
      "  warnings.warn(message)\n"
     ]
    },
    {
     "data": {
      "application/vnd.jupyter.widget-view+json": {
       "model_id": "2a3fbf2815e8470d8282fb050f023f64",
       "version_major": 2,
       "version_minor": 0
      },
      "text/plain": [
       "train-00000-of-00001.parquet:   0%|          | 0.00/289k [00:00<?, ?B/s]"
      ]
     },
     "metadata": {},
     "output_type": "display_data"
    },
    {
     "data": {
      "application/vnd.jupyter.widget-view+json": {
       "model_id": "aea48a3092b24fb0b7b8b516409729bb",
       "version_major": 2,
       "version_minor": 0
      },
      "text/plain": [
       "Generating train split:   0%|          | 0/65 [00:00<?, ? examples/s]"
      ]
     },
     "metadata": {},
     "output_type": "display_data"
    }
   ],
   "source": [
    "import datasets\n",
    "import pandas as pd\n",
    "\n",
    "doc_dataset = datasets.load_dataset(\"m-ric/huggingface_doc\", split=\"train\")\n",
    "qa_dataset = datasets.load_dataset(\"m-ric/huggingface_doc_qa_eval\", split=\"train\")"
   ]
  },
  {
   "cell_type": "code",
   "execution_count": 3,
   "id": "ed186c69-ba71-4d43-acad-f47a529b85c6",
   "metadata": {},
   "outputs": [],
   "source": [
    "doc_df = pd.DataFrame(doc_dataset)\n",
    "qa_df = pd.DataFrame(qa_dataset)"
   ]
  },
  {
   "cell_type": "code",
   "execution_count": 17,
   "id": "8ee97c71-fde6-44cf-8aba-0f34aacc84af",
   "metadata": {},
   "outputs": [],
   "source": [
    "pd.set_option('display.max_colwidth', 100)\n",
    "#pd.set_option('display.max_colwidth', None)"
   ]
  },
  {
   "cell_type": "code",
   "execution_count": 32,
   "id": "d844eb92-aac3-43ef-be59-b5ac526ed26a",
   "metadata": {},
   "outputs": [
    {
     "data": {
      "text/plain": [
       "96"
      ]
     },
     "execution_count": 32,
     "metadata": {},
     "output_type": "execute_result"
    }
   ],
   "source": [
    "len(doc_df[doc_df['source']=='huggingface/tokenizers/blob/main/bindings/node/npm/linux-x64-musl/README.md']['text'].iloc[0])"
   ]
  },
  {
   "cell_type": "code",
   "execution_count": 33,
   "id": "58eee4db-572c-4493-8cc7-2502daa9a5b1",
   "metadata": {},
   "outputs": [
    {
     "data": {
      "text/plain": [
       "96"
      ]
     },
     "execution_count": 33,
     "metadata": {},
     "output_type": "execute_result"
    }
   ],
   "source": [
    "len(qa_df.iloc[0]['context'])"
   ]
  },
  {
   "cell_type": "code",
   "execution_count": 12,
   "id": "2229f96d-8c94-4b3d-9e6d-e115e1f78f35",
   "metadata": {},
   "outputs": [
    {
     "data": {
      "text/html": [
       "<div>\n",
       "<style scoped>\n",
       "    .dataframe tbody tr th:only-of-type {\n",
       "        vertical-align: middle;\n",
       "    }\n",
       "\n",
       "    .dataframe tbody tr th {\n",
       "        vertical-align: top;\n",
       "    }\n",
       "\n",
       "    .dataframe thead th {\n",
       "        text-align: right;\n",
       "    }\n",
       "</style>\n",
       "<table border=\"1\" class=\"dataframe\">\n",
       "  <thead>\n",
       "    <tr style=\"text-align: right;\">\n",
       "      <th></th>\n",
       "      <th>text</th>\n",
       "      <th>source</th>\n",
       "    </tr>\n",
       "  </thead>\n",
       "  <tbody>\n",
       "    <tr>\n",
       "      <th>0</th>\n",
       "      <td>Create an Endpoint\\n\\nAfter your first login, you will be directed to the [Endpoint creation pa...</td>\n",
       "      <td>huggingface/hf-endpoints-documentation/blob/main/docs/source/guides/create_endpoint.mdx</td>\n",
       "    </tr>\n",
       "    <tr>\n",
       "      <th>1</th>\n",
       "      <td>Choosing a metric for your task\\n\\n**So you've trained your model and want to see how well it’s...</td>\n",
       "      <td>huggingface/evaluate/blob/main/docs/source/choosing_a_metric.mdx</td>\n",
       "    </tr>\n",
       "    <tr>\n",
       "      <th>2</th>\n",
       "      <td>主要特点\\n\\n让我们来介绍一下 Gradio 最受欢迎的一些功能！这里是 Gradio 的主要特点：\\n\\n1. [添加示例输入](#example-inputs)\\n2. [传递自定义错...</td>\n",
       "      <td>gradio-app/gradio/blob/main/guides/cn/01_getting-started/02_key-features.md</td>\n",
       "    </tr>\n",
       "    <tr>\n",
       "      <th>3</th>\n",
       "      <td>!--Copyright 2023 The HuggingFace Team. All rights reserved.\\n\\nLicensed under the Apache Licens...</td>\n",
       "      <td>huggingface/transformers/blob/main/docs/source/en/perf_train_tpu_tf.md</td>\n",
       "    </tr>\n",
       "    <tr>\n",
       "      <th>4</th>\n",
       "      <td>Gradio Demo: blocks_random_slider\\n\\n\\n```\\n!pip install -q gradio \\n```\\n\\n\\n```\\n\\nimport gra...</td>\n",
       "      <td>gradio-app/gradio/blob/main/demo/blocks_random_slider/run.ipynb</td>\n",
       "    </tr>\n",
       "  </tbody>\n",
       "</table>\n",
       "</div>"
      ],
      "text/plain": [
       "                                                                                                  text  \\\n",
       "0   Create an Endpoint\\n\\nAfter your first login, you will be directed to the [Endpoint creation pa...   \n",
       "1   Choosing a metric for your task\\n\\n**So you've trained your model and want to see how well it’s...   \n",
       "2   主要特点\\n\\n让我们来介绍一下 Gradio 最受欢迎的一些功能！这里是 Gradio 的主要特点：\\n\\n1. [添加示例输入](#example-inputs)\\n2. [传递自定义错...   \n",
       "3  !--Copyright 2023 The HuggingFace Team. All rights reserved.\\n\\nLicensed under the Apache Licens...   \n",
       "4   Gradio Demo: blocks_random_slider\\n\\n\\n```\\n!pip install -q gradio \\n```\\n\\n\\n```\\n\\nimport gra...   \n",
       "\n",
       "                                                                                    source  \n",
       "0  huggingface/hf-endpoints-documentation/blob/main/docs/source/guides/create_endpoint.mdx  \n",
       "1                         huggingface/evaluate/blob/main/docs/source/choosing_a_metric.mdx  \n",
       "2              gradio-app/gradio/blob/main/guides/cn/01_getting-started/02_key-features.md  \n",
       "3                   huggingface/transformers/blob/main/docs/source/en/perf_train_tpu_tf.md  \n",
       "4                          gradio-app/gradio/blob/main/demo/blocks_random_slider/run.ipynb  "
      ]
     },
     "execution_count": 12,
     "metadata": {},
     "output_type": "execute_result"
    }
   ],
   "source": [
    "doc_df.head()"
   ]
  },
  {
   "cell_type": "code",
   "execution_count": 31,
   "id": "871c3fd5-5ada-48e9-984d-fec8938fe554",
   "metadata": {},
   "outputs": [
    {
     "data": {
      "text/html": [
       "<div>\n",
       "<style scoped>\n",
       "    .dataframe tbody tr th:only-of-type {\n",
       "        vertical-align: middle;\n",
       "    }\n",
       "\n",
       "    .dataframe tbody tr th {\n",
       "        vertical-align: top;\n",
       "    }\n",
       "\n",
       "    .dataframe thead th {\n",
       "        text-align: right;\n",
       "    }\n",
       "</style>\n",
       "<table border=\"1\" class=\"dataframe\">\n",
       "  <thead>\n",
       "    <tr style=\"text-align: right;\">\n",
       "      <th></th>\n",
       "      <th>context</th>\n",
       "      <th>question</th>\n",
       "      <th>answer</th>\n",
       "      <th>source_doc</th>\n",
       "      <th>standalone_score</th>\n",
       "      <th>standalone_eval</th>\n",
       "      <th>relatedness_score</th>\n",
       "      <th>relatedness_eval</th>\n",
       "      <th>relevance_score</th>\n",
       "      <th>relevance_eval</th>\n",
       "    </tr>\n",
       "  </thead>\n",
       "  <tbody>\n",
       "    <tr>\n",
       "      <th>0</th>\n",
       "      <td>`tokenizers-linux-x64-musl`\\n\\nThis is the **x86_64-unknown-linux-musl** binary for `tokenizers`\\n</td>\n",
       "      <td>What architecture is the `tokenizers-linux-x64-musl` binary designed for?\\n</td>\n",
       "      <td>x86_64-unknown-linux-musl</td>\n",
       "      <td>huggingface/tokenizers/blob/main/bindings/node/npm/linux-x64-musl/README.md</td>\n",
       "      <td>5</td>\n",
       "      <td>The question is asking about the specific architecture for which a binary file, named `tokenizer...</td>\n",
       "      <td>5</td>\n",
       "      <td>The context directly specifies the architecture for which the `tokenizers-linux-x64-musl` binary...</td>\n",
       "      <td>3</td>\n",
       "      <td>The question is asking for specific technical information regarding a binary file provided by th...</td>\n",
       "    </tr>\n",
       "    <tr>\n",
       "      <th>1</th>\n",
       "      <td>!--Copyright 2023 The HuggingFace Team. All rights reserved.\\n\\nLicensed under the Apache Licens...</td>\n",
       "      <td>What is the purpose of the BLIP-Diffusion model?\\n</td>\n",
       "      <td>The BLIP-Diffusion model is designed for controllable text-to-image generation and editing.</td>\n",
       "      <td>huggingface/diffusers/blob/main/docs/source/en/api/pipelines/blip_diffusion.md</td>\n",
       "      <td>5</td>\n",
       "      <td>The question is asking for the purpose of a specific model named \"BLIP-Diffusion.\" While the mod...</td>\n",
       "      <td>5</td>\n",
       "      <td>The context provides a detailed description of the BLIP-Diffusion model, including its purpose a...</td>\n",
       "      <td>3</td>\n",
       "      <td>The question asks about the purpose of the BLIP-Diffusion model, which is a specific model that ...</td>\n",
       "    </tr>\n",
       "    <tr>\n",
       "      <th>2</th>\n",
       "      <td>Paper Pages\\n\\nPaper pages allow people to find artifacts related to a paper such as models, da...</td>\n",
       "      <td>How can a user claim authorship of a paper on the Hugging Face Hub?\\n</td>\n",
       "      <td>By clicking their name on the corresponding Paper page and clicking \"claim authorship\", then con...</td>\n",
       "      <td>huggingface/hub-docs/blob/main/docs/hub/paper-pages.md</td>\n",
       "      <td>5</td>\n",
       "      <td>The question is clear and does not depend on a specific context to be understood. It assumes a g...</td>\n",
       "      <td>5</td>\n",
       "      <td>The context provides a clear explanation of how a user can claim authorship of a paper on the Hu...</td>\n",
       "      <td>3</td>\n",
       "      <td>The question is specific to the Hugging Face Hub, which is a platform used by machine learning d...</td>\n",
       "    </tr>\n",
       "    <tr>\n",
       "      <th>3</th>\n",
       "      <td>Datasets server API\\n\\n&gt; API on 🤗 datasets\\n\\n## Configuration\\n\\nThe service can be configured...</td>\n",
       "      <td>What is the purpose of the /healthcheck endpoint in the Datasets server API?\\n</td>\n",
       "      <td>Ensure the app is running</td>\n",
       "      <td>huggingface/datasets-server/blob/main/services/api/README.md</td>\n",
       "      <td>5</td>\n",
       "      <td>The question is asking for the purpose of a specific feature (the /healthcheck endpoint) within ...</td>\n",
       "      <td>5</td>\n",
       "      <td>The context directly states the purpose of the /healthcheck endpoint in the Datasets server API,...</td>\n",
       "      <td>4</td>\n",
       "      <td>The question is specific and technical, asking about a particular feature (the /healthcheck endp...</td>\n",
       "    </tr>\n",
       "    <tr>\n",
       "      <th>4</th>\n",
       "      <td>!--Copyright 2022 The HuggingFace Team. All rights reserved.\\n\\nLicensed under the Apache Licens...</td>\n",
       "      <td>What is the default context window size for Local Attention in the LongT5 model?\\n</td>\n",
       "      <td>127 tokens</td>\n",
       "      <td>huggingface/transformers/blob/main/docs/source/en/model_doc/longt5.md</td>\n",
       "      <td>5</td>\n",
       "      <td>The question is asking for a specific parameter (default context window size) for a particular f...</td>\n",
       "      <td>5</td>\n",
       "      <td>The context provides a specific detail about the default context window size for Local Attention...</td>\n",
       "      <td>3</td>\n",
       "      <td>This question is specific and technical, asking for a particular parameter of the Local Attentio...</td>\n",
       "    </tr>\n",
       "  </tbody>\n",
       "</table>\n",
       "</div>"
      ],
      "text/plain": [
       "                                                                                               context  \\\n",
       "0   `tokenizers-linux-x64-musl`\\n\\nThis is the **x86_64-unknown-linux-musl** binary for `tokenizers`\\n   \n",
       "1  !--Copyright 2023 The HuggingFace Team. All rights reserved.\\n\\nLicensed under the Apache Licens...   \n",
       "2   Paper Pages\\n\\nPaper pages allow people to find artifacts related to a paper such as models, da...   \n",
       "3   Datasets server API\\n\\n> API on 🤗 datasets\\n\\n## Configuration\\n\\nThe service can be configured...   \n",
       "4  !--Copyright 2022 The HuggingFace Team. All rights reserved.\\n\\nLicensed under the Apache Licens...   \n",
       "\n",
       "                                                                             question  \\\n",
       "0         What architecture is the `tokenizers-linux-x64-musl` binary designed for?\\n   \n",
       "1                                  What is the purpose of the BLIP-Diffusion model?\\n   \n",
       "2               How can a user claim authorship of a paper on the Hugging Face Hub?\\n   \n",
       "3      What is the purpose of the /healthcheck endpoint in the Datasets server API?\\n   \n",
       "4  What is the default context window size for Local Attention in the LongT5 model?\\n   \n",
       "\n",
       "                                                                                                answer  \\\n",
       "0                                                                            x86_64-unknown-linux-musl   \n",
       "1          The BLIP-Diffusion model is designed for controllable text-to-image generation and editing.   \n",
       "2  By clicking their name on the corresponding Paper page and clicking \"claim authorship\", then con...   \n",
       "3                                                                            Ensure the app is running   \n",
       "4                                                                                           127 tokens   \n",
       "\n",
       "                                                                       source_doc  \\\n",
       "0     huggingface/tokenizers/blob/main/bindings/node/npm/linux-x64-musl/README.md   \n",
       "1  huggingface/diffusers/blob/main/docs/source/en/api/pipelines/blip_diffusion.md   \n",
       "2                          huggingface/hub-docs/blob/main/docs/hub/paper-pages.md   \n",
       "3                    huggingface/datasets-server/blob/main/services/api/README.md   \n",
       "4           huggingface/transformers/blob/main/docs/source/en/model_doc/longt5.md   \n",
       "\n",
       "   standalone_score  \\\n",
       "0                 5   \n",
       "1                 5   \n",
       "2                 5   \n",
       "3                 5   \n",
       "4                 5   \n",
       "\n",
       "                                                                                       standalone_eval  \\\n",
       "0  The question is asking about the specific architecture for which a binary file, named `tokenizer...   \n",
       "1  The question is asking for the purpose of a specific model named \"BLIP-Diffusion.\" While the mod...   \n",
       "2  The question is clear and does not depend on a specific context to be understood. It assumes a g...   \n",
       "3  The question is asking for the purpose of a specific feature (the /healthcheck endpoint) within ...   \n",
       "4  The question is asking for a specific parameter (default context window size) for a particular f...   \n",
       "\n",
       "   relatedness_score  \\\n",
       "0                  5   \n",
       "1                  5   \n",
       "2                  5   \n",
       "3                  5   \n",
       "4                  5   \n",
       "\n",
       "                                                                                      relatedness_eval  \\\n",
       "0  The context directly specifies the architecture for which the `tokenizers-linux-x64-musl` binary...   \n",
       "1  The context provides a detailed description of the BLIP-Diffusion model, including its purpose a...   \n",
       "2  The context provides a clear explanation of how a user can claim authorship of a paper on the Hu...   \n",
       "3  The context directly states the purpose of the /healthcheck endpoint in the Datasets server API,...   \n",
       "4  The context provides a specific detail about the default context window size for Local Attention...   \n",
       "\n",
       "   relevance_score  \\\n",
       "0                3   \n",
       "1                3   \n",
       "2                3   \n",
       "3                4   \n",
       "4                3   \n",
       "\n",
       "                                                                                        relevance_eval  \n",
       "0  The question is asking for specific technical information regarding a binary file provided by th...  \n",
       "1  The question asks about the purpose of the BLIP-Diffusion model, which is a specific model that ...  \n",
       "2  The question is specific to the Hugging Face Hub, which is a platform used by machine learning d...  \n",
       "3  The question is specific and technical, asking about a particular feature (the /healthcheck endp...  \n",
       "4  This question is specific and technical, asking for a particular parameter of the Local Attentio...  "
      ]
     },
     "execution_count": 31,
     "metadata": {},
     "output_type": "execute_result"
    }
   ],
   "source": [
    "qa_df.head()"
   ]
  },
  {
   "cell_type": "code",
   "execution_count": 39,
   "id": "fbd2dabd-287f-46a3-8dfc-fd9563467b1e",
   "metadata": {},
   "outputs": [],
   "source": [
    "from langchain.docstore.document import Document as LangchainDocument\n",
    "from tqdm.notebook import tqdm"
   ]
  },
  {
   "cell_type": "code",
   "execution_count": 41,
   "id": "091d7cdf-c118-4478-840a-583073ba44c8",
   "metadata": {},
   "outputs": [
    {
     "data": {
      "application/vnd.jupyter.widget-view+json": {
       "model_id": "c9e8b4ecf414484fbf218ebaaf20b43a",
       "version_major": 2,
       "version_minor": 0
      },
      "text/plain": [
       "  0%|          | 0/2647 [00:00<?, ?it/s]"
      ]
     },
     "metadata": {},
     "output_type": "display_data"
    }
   ],
   "source": [
    "RAW_KB = [\n",
    "    LangchainDocument(page_content=doc[\"text\"], metadata={\"source\": doc[\"source\"]}) for doc in tqdm(doc_dataset)\n",
    "]"
   ]
  },
  {
   "cell_type": "markdown",
   "id": "b5500945-2c41-4b5a-9593-9ac33945498b",
   "metadata": {},
   "source": [
    "# Chunking"
   ]
  },
  {
   "cell_type": "code",
   "execution_count": 45,
   "id": "b3c3d0f1-ae3c-4672-b2ef-fdd1432a6a57",
   "metadata": {},
   "outputs": [
    {
     "data": {
      "application/vnd.jupyter.widget-view+json": {
       "model_id": "2995da01f672446eb65b8d9b666e8067",
       "version_major": 2,
       "version_minor": 0
      },
      "text/plain": [
       "tokenizer_config.json:   0%|          | 0.00/394 [00:00<?, ?B/s]"
      ]
     },
     "metadata": {},
     "output_type": "display_data"
    },
    {
     "name": "stderr",
     "output_type": "stream",
     "text": [
      "C:\\Users\\mk_ya\\Desktop\\NLP-playground\\nlp-env\\Lib\\site-packages\\huggingface_hub\\file_download.py:147: UserWarning: `huggingface_hub` cache-system uses symlinks by default to efficiently store duplicated files but your machine does not support them in C:\\Users\\mk_ya\\.cache\\huggingface\\hub\\models--thenlper--gte-small. Caching files will still work but in a degraded version that might require more space on your disk. This warning can be disabled by setting the `HF_HUB_DISABLE_SYMLINKS_WARNING` environment variable. For more details, see https://huggingface.co/docs/huggingface_hub/how-to-cache#limitations.\n",
      "To support symlinks on Windows, you either need to activate Developer Mode or to run Python as an administrator. In order to activate developer mode, see this article: https://docs.microsoft.com/en-us/windows/apps/get-started/enable-your-device-for-development\n",
      "  warnings.warn(message)\n"
     ]
    },
    {
     "data": {
      "application/vnd.jupyter.widget-view+json": {
       "model_id": "ecd4ee69db5f48b6beaa47610d0e2cc4",
       "version_major": 2,
       "version_minor": 0
      },
      "text/plain": [
       "vocab.txt:   0%|          | 0.00/232k [00:00<?, ?B/s]"
      ]
     },
     "metadata": {},
     "output_type": "display_data"
    },
    {
     "data": {
      "application/vnd.jupyter.widget-view+json": {
       "model_id": "a3807d1bf3984b29958255fbc9080ac5",
       "version_major": 2,
       "version_minor": 0
      },
      "text/plain": [
       "tokenizer.json:   0%|          | 0.00/712k [00:00<?, ?B/s]"
      ]
     },
     "metadata": {},
     "output_type": "display_data"
    },
    {
     "data": {
      "application/vnd.jupyter.widget-view+json": {
       "model_id": "b68fc6d721604caf8026cb24afe5eae2",
       "version_major": 2,
       "version_minor": 0
      },
      "text/plain": [
       "special_tokens_map.json:   0%|          | 0.00/125 [00:00<?, ?B/s]"
      ]
     },
     "metadata": {},
     "output_type": "display_data"
    },
    {
     "data": {
      "application/vnd.jupyter.widget-view+json": {
       "model_id": "4079324505d94a8898c282061b13605f",
       "version_major": 2,
       "version_minor": 0
      },
      "text/plain": [
       "Processing documents:   0%|          | 0/2647 [00:00<?, ?it/s]"
      ]
     },
     "metadata": {},
     "output_type": "display_data"
    }
   ],
   "source": [
    "from langchain.text_splitter import RecursiveCharacterTextSplitter\n",
    "from typing import Optional, List, Tuple\n",
    "from transformers import AutoTokenizer\n",
    "\n",
    "# We use a hierarchical list of separators specifically tailored for splitting Markdown documents\n",
    "# This list is taken from LangChain's MarkdownTextSplitter class\n",
    "MARKDOWN_SEPARATORS = [\n",
    "    \"\\n#{1,6} \",\n",
    "    \"```\\n\",\n",
    "    \"\\n\\\\*\\\\*\\\\*+\\n\",\n",
    "    \"\\n---+\\n\",\n",
    "    \"\\n___+\\n\",\n",
    "    \"\\n\\n\",\n",
    "    \"\\n\",\n",
    "    \" \",\n",
    "    \"\",\n",
    "]\n",
    "\n",
    "# Experiment embedding model, subject to change\n",
    "EMBEDDING_MODEL_NAME = \"thenlper/gte-small\"\n",
    "\n",
    "\n",
    "def split_documents(\n",
    "    chunk_size: int,\n",
    "    knowledge_base: List[LangchainDocument],\n",
    "    tokenizer_name: Optional[str] = EMBEDDING_MODEL_NAME,\n",
    ") -> List[LangchainDocument]:\n",
    "    \"\"\"\n",
    "    Split documents into chunks of maximum size `chunk_size` tokens and return a list of documents.\n",
    "    \"\"\"\n",
    "    text_splitter = RecursiveCharacterTextSplitter.from_huggingface_tokenizer(\n",
    "        AutoTokenizer.from_pretrained(tokenizer_name),\n",
    "        chunk_size=chunk_size,\n",
    "        chunk_overlap=int(chunk_size / 10),\n",
    "        add_start_index=True,\n",
    "        strip_whitespace=True,\n",
    "        separators=MARKDOWN_SEPARATORS,\n",
    "    )\n",
    "\n",
    "    docs_processed = []\n",
    "    for doc in tqdm(RAW_KB, desc=\"Processing documents\"):\n",
    "        docs_processed += text_splitter.split_documents([doc])\n",
    "\n",
    "    # Remove duplicates\n",
    "    unique_texts = {}\n",
    "    docs_processed_unique = []\n",
    "    for doc in docs_processed:\n",
    "        if doc.page_content not in unique_texts:\n",
    "            unique_texts[doc.page_content] = True\n",
    "            docs_processed_unique.append(doc)\n",
    "\n",
    "    return docs_processed_unique\n",
    "\n",
    "\n",
    "docs_processed = split_documents(\n",
    "    512,  # We choose a chunk size adapted to our model\n",
    "    RAW_KB,\n",
    "    tokenizer_name=EMBEDDING_MODEL_NAME,\n",
    ")"
   ]
  },
  {
   "cell_type": "code",
   "execution_count": 47,
   "id": "5322c68c-4fab-4075-b800-ee8ee1c381cd",
   "metadata": {},
   "outputs": [
    {
     "data": {
      "image/png": "[encoded data removed]",
      "text/plain": [
       "<Figure size 640x480 with 1 Axes>"
      ]
     },
     "metadata": {},
     "output_type": "display_data"
    }
   ],
   "source": [
    "# Let's visualize the chunk sizes we would have in tokens from a common model\n",
    "from transformers import AutoTokenizer\n",
    "import matplotlib.pyplot as plt\n",
    "\n",
    "tokenizer = AutoTokenizer.from_pretrained(EMBEDDING_MODEL_NAME)\n",
    "lengths = [len(tokenizer.encode(doc.page_content)) for doc in tqdm(docs_processed)]\n",
    "fig = pd.Series(lengths).hist()\n",
    "plt.title(\"Distribution of document lengths in the knowledge base (in count of tokens)\")\n",
    "plt.show()"
   ]
  },
  {
   "cell_type": "code",
   "execution_count": 49,
   "id": "6038e813-ba57-4c74-b5ab-17b2b0a571a0",
   "metadata": {},
   "outputs": [
    {
     "name": "stdout",
     "output_type": "stream",
     "text": [
      "Collecting langchain-community\n",
      "  Downloading langchain_community-0.3.10-py3-none-any.whl.metadata (2.9 kB)\n",
      "Requirement already satisfied: PyYAML>=5.3 in c:\\users\\mk_ya\\desktop\\nlp-playground\\nlp-env\\lib\\site-packages (from langchain-community) (6.0.2)\n",
      "Requirement already satisfied: SQLAlchemy<3,>=1.4 in c:\\users\\mk_ya\\desktop\\nlp-playground\\nlp-env\\lib\\site-packages (from langchain-community) (2.0.36)\n",
      "Requirement already satisfied: aiohttp<4.0.0,>=3.8.3 in c:\\users\\mk_ya\\desktop\\nlp-playground\\nlp-env\\lib\\site-packages (from langchain-community) (3.10.10)\n",
      "Collecting dataclasses-json<0.7,>=0.5.7 (from langchain-community)\n",
      "  Downloading dataclasses_json-0.6.7-py3-none-any.whl.metadata (25 kB)\n",
      "Collecting httpx-sse<0.5.0,>=0.4.0 (from langchain-community)\n",
      "  Downloading httpx_sse-0.4.0-py3-none-any.whl.metadata (9.0 kB)\n",
      "Requirement already satisfied: langchain<0.4.0,>=0.3.10 in c:\\users\\mk_ya\\desktop\\nlp-playground\\nlp-env\\lib\\site-packages (from langchain-community) (0.3.10)\n",
      "Requirement already satisfied: langchain-core<0.4.0,>=0.3.22 in c:\\users\\mk_ya\\desktop\\nlp-playground\\nlp-env\\lib\\site-packages (from langchain-community) (0.3.22)\n",
      "Requirement already satisfied: langsmith<0.2.0,>=0.1.125 in c:\\users\\mk_ya\\desktop\\nlp-playground\\nlp-env\\lib\\site-packages (from langchain-community) (0.1.147)\n",
      "Requirement already satisfied: numpy<3,>=1.26.2 in c:\\users\\mk_ya\\desktop\\nlp-playground\\nlp-env\\lib\\site-packages (from langchain-community) (1.26.4)\n",
      "Collecting pydantic-settings<3.0.0,>=2.4.0 (from langchain-community)\n",
      "  Downloading pydantic_settings-2.6.1-py3-none-any.whl.metadata (3.5 kB)\n",
      "Requirement already satisfied: requests<3,>=2 in c:\\users\\mk_ya\\desktop\\nlp-playground\\nlp-env\\lib\\site-packages (from langchain-community) (2.32.3)\n",
      "Requirement already satisfied: tenacity!=8.4.0,<10,>=8.1.0 in c:\\users\\mk_ya\\desktop\\nlp-playground\\nlp-env\\lib\\site-packages (from langchain-community) (9.0.0)\n",
      "Requirement already satisfied: aiohappyeyeballs>=2.3.0 in c:\\users\\mk_ya\\desktop\\nlp-playground\\nlp-env\\lib\\site-packages (from aiohttp<4.0.0,>=3.8.3->langchain-community) (2.4.3)\n",
      "Requirement already satisfied: aiosignal>=1.1.2 in c:\\users\\mk_ya\\desktop\\nlp-playground\\nlp-env\\lib\\site-packages (from aiohttp<4.0.0,>=3.8.3->langchain-community) (1.3.1)\n",
      "Requirement already satisfied: attrs>=17.3.0 in c:\\users\\mk_ya\\desktop\\nlp-playground\\nlp-env\\lib\\site-packages (from aiohttp<4.0.0,>=3.8.3->langchain-community) (23.2.0)\n",
      "Requirement already satisfied: frozenlist>=1.1.1 in c:\\users\\mk_ya\\desktop\\nlp-playground\\nlp-env\\lib\\site-packages (from aiohttp<4.0.0,>=3.8.3->langchain-community) (1.5.0)\n",
      "Requirement already satisfied: multidict<7.0,>=4.5 in c:\\users\\mk_ya\\desktop\\nlp-playground\\nlp-env\\lib\\site-packages (from aiohttp<4.0.0,>=3.8.3->langchain-community) (6.1.0)\n",
      "Requirement already satisfied: yarl<2.0,>=1.12.0 in c:\\users\\mk_ya\\desktop\\nlp-playground\\nlp-env\\lib\\site-packages (from aiohttp<4.0.0,>=3.8.3->langchain-community) (1.17.1)\n",
      "Collecting marshmallow<4.0.0,>=3.18.0 (from dataclasses-json<0.7,>=0.5.7->langchain-community)\n",
      "  Downloading marshmallow-3.23.1-py3-none-any.whl.metadata (7.5 kB)\n",
      "Collecting typing-inspect<1,>=0.4.0 (from dataclasses-json<0.7,>=0.5.7->langchain-community)\n",
      "  Using cached typing_inspect-0.9.0-py3-none-any.whl.metadata (1.5 kB)\n",
      "Requirement already satisfied: langchain-text-splitters<0.4.0,>=0.3.0 in c:\\users\\mk_ya\\desktop\\nlp-playground\\nlp-env\\lib\\site-packages (from langchain<0.4.0,>=0.3.10->langchain-community) (0.3.2)\n",
      "Requirement already satisfied: pydantic<3.0.0,>=2.7.4 in c:\\users\\mk_ya\\desktop\\nlp-playground\\nlp-env\\lib\\site-packages (from langchain<0.4.0,>=0.3.10->langchain-community) (2.9.2)\n",
      "Requirement already satisfied: jsonpatch<2.0,>=1.33 in c:\\users\\mk_ya\\desktop\\nlp-playground\\nlp-env\\lib\\site-packages (from langchain-core<0.4.0,>=0.3.22->langchain-community) (1.33)\n",
      "Requirement already satisfied: packaging<25,>=23.2 in c:\\users\\mk_ya\\desktop\\nlp-playground\\nlp-env\\lib\\site-packages (from langchain-core<0.4.0,>=0.3.22->langchain-community) (24.1)\n",
      "Requirement already satisfied: typing-extensions>=4.7 in c:\\users\\mk_ya\\desktop\\nlp-playground\\nlp-env\\lib\\site-packages (from langchain-core<0.4.0,>=0.3.22->langchain-community) (4.12.2)\n",
      "Requirement already satisfied: httpx<1,>=0.23.0 in c:\\users\\mk_ya\\desktop\\nlp-playground\\nlp-env\\lib\\site-packages (from langsmith<0.2.0,>=0.1.125->langchain-community) (0.27.2)\n",
      "Requirement already satisfied: orjson<4.0.0,>=3.9.14 in c:\\users\\mk_ya\\desktop\\nlp-playground\\nlp-env\\lib\\site-packages (from langsmith<0.2.0,>=0.1.125->langchain-community) (3.10.12)\n",
      "Requirement already satisfied: requests-toolbelt<2.0.0,>=1.0.0 in c:\\users\\mk_ya\\desktop\\nlp-playground\\nlp-env\\lib\\site-packages (from langsmith<0.2.0,>=0.1.125->langchain-community) (1.0.0)\n",
      "Collecting python-dotenv>=0.21.0 (from pydantic-settings<3.0.0,>=2.4.0->langchain-community)\n",
      "  Using cached python_dotenv-1.0.1-py3-none-any.whl.metadata (23 kB)\n",
      "Requirement already satisfied: charset-normalizer<4,>=2 in c:\\users\\mk_ya\\desktop\\nlp-playground\\nlp-env\\lib\\site-packages (from requests<3,>=2->langchain-community) (3.4.0)\n",
      "Requirement already satisfied: idna<4,>=2.5 in c:\\users\\mk_ya\\desktop\\nlp-playground\\nlp-env\\lib\\site-packages (from requests<3,>=2->langchain-community) (3.10)\n",
      "Requirement already satisfied: urllib3<3,>=1.21.1 in c:\\users\\mk_ya\\desktop\\nlp-playground\\nlp-env\\lib\\site-packages (from requests<3,>=2->langchain-community) (2.2.3)\n",
      "Requirement already satisfied: certifi>=2017.4.17 in c:\\users\\mk_ya\\desktop\\nlp-playground\\nlp-env\\lib\\site-packages (from requests<3,>=2->langchain-community) (2024.8.30)\n",
      "Requirement already satisfied: greenlet!=0.4.17 in c:\\users\\mk_ya\\desktop\\nlp-playground\\nlp-env\\lib\\site-packages (from SQLAlchemy<3,>=1.4->langchain-community) (3.1.1)\n",
      "Requirement already satisfied: anyio in c:\\users\\mk_ya\\desktop\\nlp-playground\\nlp-env\\lib\\site-packages (from httpx<1,>=0.23.0->langsmith<0.2.0,>=0.1.125->langchain-community) (4.6.0)\n",
      "Requirement already satisfied: httpcore==1.* in c:\\users\\mk_ya\\desktop\\nlp-playground\\nlp-env\\lib\\site-packages (from httpx<1,>=0.23.0->langsmith<0.2.0,>=0.1.125->langchain-community) (1.0.6)\n",
      "Requirement already satisfied: sniffio in c:\\users\\mk_ya\\desktop\\nlp-playground\\nlp-env\\lib\\site-packages (from httpx<1,>=0.23.0->langsmith<0.2.0,>=0.1.125->langchain-community) (1.3.1)\n",
      "Requirement already satisfied: h11<0.15,>=0.13 in c:\\users\\mk_ya\\desktop\\nlp-playground\\nlp-env\\lib\\site-packages (from httpcore==1.*->httpx<1,>=0.23.0->langsmith<0.2.0,>=0.1.125->langchain-community) (0.14.0)\n",
      "Requirement already satisfied: jsonpointer>=1.9 in c:\\users\\mk_ya\\desktop\\nlp-playground\\nlp-env\\lib\\site-packages (from jsonpatch<2.0,>=1.33->langchain-core<0.4.0,>=0.3.22->langchain-community) (3.0.0)\n",
      "Requirement already satisfied: annotated-types>=0.6.0 in c:\\users\\mk_ya\\desktop\\nlp-playground\\nlp-env\\lib\\site-packages (from pydantic<3.0.0,>=2.7.4->langchain<0.4.0,>=0.3.10->langchain-community) (0.7.0)\n",
      "Requirement already satisfied: pydantic-core==2.23.4 in c:\\users\\mk_ya\\desktop\\nlp-playground\\nlp-env\\lib\\site-packages (from pydantic<3.0.0,>=2.7.4->langchain<0.4.0,>=0.3.10->langchain-community) (2.23.4)\n",
      "Collecting mypy-extensions>=0.3.0 (from typing-inspect<1,>=0.4.0->dataclasses-json<0.7,>=0.5.7->langchain-community)\n",
      "  Using cached mypy_extensions-1.0.0-py3-none-any.whl.metadata (1.1 kB)\n",
      "Requirement already satisfied: propcache>=0.2.0 in c:\\users\\mk_ya\\desktop\\nlp-playground\\nlp-env\\lib\\site-packages (from yarl<2.0,>=1.12.0->aiohttp<4.0.0,>=3.8.3->langchain-community) (0.2.0)\n",
      "Downloading langchain_community-0.3.10-py3-none-any.whl (2.4 MB)\n",
      "   ---------------------------------------- 0.0/2.4 MB ? eta -:--:--\n",
      "    --------------------------------------- 0.0/2.4 MB 991.0 kB/s eta 0:00:03\n",
      "   - -------------------------------------- 0.1/2.4 MB 787.7 kB/s eta 0:00:04\n",
      "   -- ------------------------------------- 0.1/2.4 MB 1.4 MB/s eta 0:00:02\n",
      "   --- ------------------------------------ 0.2/2.4 MB 1.3 MB/s eta 0:00:02\n",
      "   --- ------------------------------------ 0.2/2.4 MB 1.1 MB/s eta 0:00:02\n",
      "   ---- ----------------------------------- 0.3/2.4 MB 1.0 MB/s eta 0:00:03\n",
      "   ----- ---------------------------------- 0.4/2.4 MB 1.2 MB/s eta 0:00:02\n",
      "   ------ --------------------------------- 0.4/2.4 MB 1.2 MB/s eta 0:00:02\n",
      "   ------- -------------------------------- 0.5/2.4 MB 1.2 MB/s eta 0:00:02\n",
      "   --------- ------------------------------ 0.6/2.4 MB 1.2 MB/s eta 0:00:02\n",
      "   --------- ------------------------------ 0.6/2.4 MB 1.2 MB/s eta 0:00:02\n",
      "   ---------- ----------------------------- 0.7/2.4 MB 1.2 MB/s eta 0:00:02\n",
      "   ----------- ---------------------------- 0.7/2.4 MB 1.2 MB/s eta 0:00:02\n",
      "   ------------- -------------------------- 0.8/2.4 MB 1.2 MB/s eta 0:00:02\n",
      "   -------------- ------------------------- 0.9/2.4 MB 1.2 MB/s eta 0:00:02\n",
      "   -------------- ------------------------- 0.9/2.4 MB 1.2 MB/s eta 0:00:02\n",
      "   --------------- ------------------------ 1.0/2.4 MB 1.2 MB/s eta 0:00:02\n",
      "   ---------------- ----------------------- 1.0/2.4 MB 1.2 MB/s eta 0:00:02\n",
      "   ----------------- ---------------------- 1.1/2.4 MB 1.3 MB/s eta 0:00:02\n",
      "   ------------------ --------------------- 1.1/2.4 MB 1.2 MB/s eta 0:00:02\n",
      "   ------------------- -------------------- 1.2/2.4 MB 1.3 MB/s eta 0:00:01\n",
      "   -------------------- ------------------- 1.3/2.4 MB 1.3 MB/s eta 0:00:01\n",
      "   --------------------- ------------------ 1.3/2.4 MB 1.3 MB/s eta 0:00:01\n",
      "   ---------------------- ----------------- 1.4/2.4 MB 1.3 MB/s eta 0:00:01\n",
      "   ----------------------- ---------------- 1.5/2.4 MB 1.3 MB/s eta 0:00:01\n",
      "   ------------------------ --------------- 1.5/2.4 MB 1.3 MB/s eta 0:00:01\n",
      "   ------------------------- -------------- 1.6/2.4 MB 1.3 MB/s eta 0:00:01\n",
      "   -------------------------- ------------- 1.6/2.4 MB 1.3 MB/s eta 0:00:01\n",
      "   --------------------------- ------------ 1.7/2.4 MB 1.3 MB/s eta 0:00:01\n",
      "   ---------------------------- ----------- 1.8/2.4 MB 1.3 MB/s eta 0:00:01\n",
      "   ----------------------------- ---------- 1.8/2.4 MB 1.3 MB/s eta 0:00:01\n",
      "   ------------------------------ --------- 1.9/2.4 MB 1.3 MB/s eta 0:00:01\n",
      "   ------------------------------- -------- 1.9/2.4 MB 1.3 MB/s eta 0:00:01\n",
      "   -------------------------------- ------- 2.0/2.4 MB 1.3 MB/s eta 0:00:01\n",
      "   --------------------------------- ------ 2.1/2.4 MB 1.3 MB/s eta 0:00:01\n",
      "   ---------------------------------- ----- 2.1/2.4 MB 1.3 MB/s eta 0:00:01\n",
      "   ----------------------------------- ---- 2.2/2.4 MB 1.3 MB/s eta 0:00:01\n",
      "   ------------------------------------ --- 2.2/2.4 MB 1.3 MB/s eta 0:00:01\n",
      "   ------------------------------------- -- 2.3/2.4 MB 1.3 MB/s eta 0:00:01\n",
      "   ------------------------------------- -- 2.3/2.4 MB 1.3 MB/s eta 0:00:01\n",
      "   -------------------------------------- - 2.4/2.4 MB 1.3 MB/s eta 0:00:01\n",
      "   -------------------------------------- - 2.4/2.4 MB 1.2 MB/s eta 0:00:01\n",
      "   ---------------------------------------  2.4/2.4 MB 1.2 MB/s eta 0:00:01\n",
      "   ---------------------------------------  2.4/2.4 MB 1.2 MB/s eta 0:00:01\n",
      "   ---------------------------------------- 2.4/2.4 MB 1.2 MB/s eta 0:00:00\n",
      "Downloading dataclasses_json-0.6.7-py3-none-any.whl (28 kB)\n",
      "Downloading httpx_sse-0.4.0-py3-none-any.whl (7.8 kB)\n",
      "Downloading pydantic_settings-2.6.1-py3-none-any.whl (28 kB)\n",
      "Downloading marshmallow-3.23.1-py3-none-any.whl (49 kB)\n",
      "   ---------------------------------------- 0.0/49.5 kB ? eta -:--:--\n",
      "   --------------------------------- ------ 41.0/49.5 kB 960.0 kB/s eta 0:00:01\n",
      "   ---------------------------------------- 49.5/49.5 kB 1.2 MB/s eta 0:00:00\n",
      "Using cached python_dotenv-1.0.1-py3-none-any.whl (19 kB)\n",
      "Using cached typing_inspect-0.9.0-py3-none-any.whl (8.8 kB)\n",
      "Using cached mypy_extensions-1.0.0-py3-none-any.whl (4.7 kB)\n",
      "Installing collected packages: python-dotenv, mypy-extensions, marshmallow, httpx-sse, typing-inspect, pydantic-settings, dataclasses-json, langchain-community\n",
      "Successfully installed dataclasses-json-0.6.7 httpx-sse-0.4.0 langchain-community-0.3.10 marshmallow-3.23.1 mypy-extensions-1.0.0 pydantic-settings-2.6.1 python-dotenv-1.0.1 typing-inspect-0.9.0\n"
     ]
    },
    {
     "name": "stderr",
     "output_type": "stream",
     "text": [
      "\n",
      "[notice] A new release of pip is available: 24.0 -> 24.3.1\n",
      "[notice] To update, run: python.exe -m pip install --upgrade pip\n"
     ]
    }
   ],
   "source": [
    "!pip install -U langchain-community"
   ]
  },
  {
   "cell_type": "code",
   "execution_count": null,
   "id": "33c44b78-1f7d-47f2-82a9-c1e7b0f36645",
   "metadata": {},
   "outputs": [],
   "source": [
    "from langchain.vectorstores import FAISS\n",
    "from langchain_community.embeddings import HuggingFaceEmbeddings\n",
    "from langchain_community.vectorstores.utils import DistanceStrategy\n",
    "\n",
    "embedding_model = HuggingFaceEmbeddings(\n",
    "    model_name=EMBEDDING_MODEL_NAME,\n",
    "    multi_process=True,\n",
    "    model_kwargs={\"device\": \"cuda\"},\n",
    "    encode_kwargs={\"normalize_embeddings\": True},  # Set `True` for cosine similarity\n",
    ")\n",
    "\n",
    "KNOWLEDGE_VECTOR_DATABASE = FAISS.from_documents(\n",
    "    docs_processed, embedding_model, distance_strategy=DistanceStrategy.COSINE\n",
    ")\n",
    "\n",
    "# Save the FAISS index\n",
    "KNOWLEDGE_VECTOR_DATABASE.save_local(\"faiss_index\")"
   ]
  },
  {
   "cell_type": "code",
   "execution_count": 55,
   "id": "c81fe6ac-687e-4f25-a422-dee01b03fcfe",
   "metadata": {},
   "outputs": [
    {
     "name": "stderr",
     "output_type": "stream",
     "text": [
      "`embedding_function` is expected to be an Embeddings object, support for passing in a function will soon be removed.\n"
     ]
    }
   ],
   "source": [
    "from langchain.vectorstores import FAISS\n",
    "from langchain_community.embeddings import HuggingFaceEmbeddings\n",
    "from langchain_community.vectorstores.utils import DistanceStrategy\n",
    "\n",
    "loaded_vectorstore = FAISS.load_local(\n",
    "    \"faiss_index\", \n",
    "    embeddings=EMBEDDING_MODEL_NAME,\n",
    "    allow_dangerous_deserialization=True\n",
    ")"
   ]
  },
  {
   "cell_type": "code",
   "execution_count": null,
   "id": "d5cdd9f9-476e-4605-a636-a8662153789d",
   "metadata": {},
   "outputs": [],
   "source": []
  }
 ],
 "metadata": {
  "kernelspec": {
   "display_name": "Python (nlp-env)",
   "language": "python",
   "name": "nlp-env"
  },
  "language_info": {
   "codemirror_mode": {
    "name": "ipython",
    "version": 3
   },
   "file_extension": ".py",
   "mimetype": "text/x-python",
   "name": "python",
   "nbconvert_exporter": "python",
   "pygments_lexer": "ipython3",
   "version": "3.12.3"
  }
 },
 "nbformat": 4,
 "nbformat_minor": 5
}
